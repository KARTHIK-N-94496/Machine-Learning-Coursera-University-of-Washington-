{
  "nbformat": 4,
  "nbformat_minor": 0,
  "metadata": {
    "colab": {
      "name": "Course 1 - Week 1 Assignment.ipynb",
      "provenance": [],
      "collapsed_sections": []
    },
    "kernelspec": {
      "name": "python3",
      "display_name": "Python 3"
    }
  },
  "cells": [
    {
      "cell_type": "code",
      "metadata": {
        "id": "u8se7XyR8J_-",
        "colab_type": "code",
        "colab": {}
      },
      "source": [
        "pip install turicreate"
      ],
      "execution_count": null,
      "outputs": []
    },
    {
      "cell_type": "code",
      "metadata": {
        "id": "3yxoFtM08iK4",
        "colab_type": "code",
        "colab": {}
      },
      "source": [
        "pip freeze"
      ],
      "execution_count": null,
      "outputs": []
    },
    {
      "cell_type": "markdown",
      "metadata": {
        "id": "bUA4caCpV6IT",
        "colab_type": "text"
      },
      "source": [
        "## Importing the data\n",
        "- Directly import the zip file without extracting\n",
        "- Create a new folder named people_wiki.sframe\n",
        "- Extract the files into the folder that we created using **zipfile** module"
      ]
    },
    {
      "cell_type": "code",
      "metadata": {
        "id": "xYZxgYpFKzDe",
        "colab_type": "code",
        "colab": {}
      },
      "source": [
        "pip install zipfile36 #Used to extract the zip file"
      ],
      "execution_count": null,
      "outputs": []
    },
    {
      "cell_type": "code",
      "metadata": {
        "id": "4LL28KBxMHHS",
        "colab_type": "code",
        "colab": {}
      },
      "source": [
        "#Steps to extract zip file in Python\n",
        "import zipfile\n",
        "\n",
        "target = '/content/-q2dp-IAEemnvhJSBz-0XA_9625a0851f91403da0239b66c8e2bed8_people_wiki.sframe.zip'\n",
        "handle = zipfile.ZipFile(target)\n",
        "handle.extractall('/content/people_wiki.sframe/')\n",
        "handle.close()"
      ],
      "execution_count": 15,
      "outputs": []
    },
    {
      "cell_type": "code",
      "metadata": {
        "id": "q33L7SW2iZV3",
        "colab_type": "code",
        "colab": {}
      },
      "source": [
        "import turicreate\n",
        "\n",
        "sf = turicreate.SFrame('/content/people_wiki.sframe/people_wiki.sframe')"
      ],
      "execution_count": 16,
      "outputs": []
    },
    {
      "cell_type": "code",
      "metadata": {
        "id": "JVIJxQkMi4Kz",
        "colab_type": "code",
        "colab": {}
      },
      "source": [
        "sf"
      ],
      "execution_count": null,
      "outputs": []
    },
    {
      "cell_type": "markdown",
      "metadata": {
        "id": "D0gGTGVBVpAO",
        "colab_type": "text"
      },
      "source": [
        "#### 1) Write some description on the above table for first question's answer"
      ]
    },
    {
      "cell_type": "code",
      "metadata": {
        "id": "PF3ifvFuNelf",
        "colab_type": "code",
        "colab": {}
      },
      "source": [
        "sf  #2)Number of rows and columns are given at the bottom of the table"
      ],
      "execution_count": null,
      "outputs": []
    },
    {
      "cell_type": "code",
      "metadata": {
        "id": "7iVeC2eCROM5",
        "colab_type": "code",
        "colab": {}
      },
      "source": [
        "sf.tail() #3)Last row gives the answer"
      ],
      "execution_count": null,
      "outputs": []
    },
    {
      "cell_type": "code",
      "metadata": {
        "id": "BlINWseVOIOw",
        "colab_type": "code",
        "colab": {}
      },
      "source": [
        "sf.print_rows(3,3,3000) #4)Search for honored word and you will find the answer"
      ],
      "execution_count": null,
      "outputs": []
    },
    {
      "cell_type": "code",
      "metadata": {
        "id": "SVgmLWgLOcgv",
        "colab_type": "code",
        "colab": {}
      },
      "source": [
        "sf['text'].sort() #5)Sort the text column"
      ],
      "execution_count": null,
      "outputs": []
    }
  ]
}